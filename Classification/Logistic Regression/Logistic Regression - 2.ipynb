{
 "cells": [
  {
   "cell_type": "code",
   "execution_count": 2,
   "id": "c1a2b04c",
   "metadata": {},
   "outputs": [],
   "source": [
    "import findspark\n",
    "findspark.init('/home/aditya/spark-3.1.1-bin-hadoop2.7')\n",
    "from pyspark.sql import SparkSession"
   ]
  },
  {
   "cell_type": "code",
   "execution_count": 3,
   "id": "1c7459bf",
   "metadata": {},
   "outputs": [],
   "source": [
    "spark = SparkSession.builder.appName(\"Lreg\").getOrCreate()"
   ]
  },
  {
   "cell_type": "code",
   "execution_count": 4,
   "id": "b1b7febe",
   "metadata": {},
   "outputs": [],
   "source": [
    "from pyspark.ml.classification import LogisticRegression"
   ]
  },
  {
   "cell_type": "code",
   "execution_count": 5,
   "id": "15d39423",
   "metadata": {},
   "outputs": [],
   "source": [
    "df = spark.read.csv('titanic.csv', inferSchema=True, header=True)"
   ]
  },
  {
   "cell_type": "code",
   "execution_count": 6,
   "id": "a6422e2b",
   "metadata": {},
   "outputs": [
    {
     "name": "stdout",
     "output_type": "stream",
     "text": [
      "root\n",
      " |-- PassengerId: integer (nullable = true)\n",
      " |-- Survived: integer (nullable = true)\n",
      " |-- Pclass: integer (nullable = true)\n",
      " |-- Name: string (nullable = true)\n",
      " |-- Sex: string (nullable = true)\n",
      " |-- Age: double (nullable = true)\n",
      " |-- SibSp: integer (nullable = true)\n",
      " |-- Parch: integer (nullable = true)\n",
      " |-- Ticket: string (nullable = true)\n",
      " |-- Fare: double (nullable = true)\n",
      " |-- Cabin: string (nullable = true)\n",
      " |-- Embarked: string (nullable = true)\n",
      "\n"
     ]
    }
   ],
   "source": [
    "df.printSchema()"
   ]
  },
  {
   "cell_type": "code",
   "execution_count": 44,
   "id": "6c7846c8",
   "metadata": {},
   "outputs": [],
   "source": [
    "mydf = df.select('Survived','Pclass', 'Sex', 'Age', 'SibSp', 'Parch', 'Ticket',\n",
    " 'Fare', 'Embarked')\n",
    "myfinaldf = mydf.na.drop()"
   ]
  },
  {
   "cell_type": "code",
   "execution_count": 62,
   "id": "1c34f271",
   "metadata": {},
   "outputs": [],
   "source": [
    "from pyspark.ml.feature import StringIndexer, OneHotEncoder, VectorIndexer, VectorAssembler\n",
    "# dfnew = dfnew.withColumn('cabinfloor',substring('Cabin',1,1))\n",
    "# dfnew = dfnew.na.fill('Z', subset='cabinfloor')\n",
    "# dfnew.groupby('cabinfloor').count().show()\n",
    "# indexer = StringIndexer(inputCol=\"cabinfloor\", outputCol=\"cabinfloor_lineIndex\")\n",
    "# indexed = indexer.fit(dfnew).transform(dfnew)\n",
    "gender_indexer = StringIndexer(inputCol=\"Sex\",outputCol=\"IndexedSex\")\n",
    "gender_encoder = OneHotEncoder(inputCol=\"IndexedSex\", outputCol=\"SexVec\")\n",
    "\n",
    "Embarked_indexer = StringIndexer(inputCol=\"Embarked\",outputCol=\"IndexedEmbarked\")\n",
    "Embarked_encoder = OneHotEncoder(inputCol=\"IndexedEmbarked\", outputCol=\"EmbarkedVec\")\n",
    "\n",
    "assembler = VectorAssembler(inputCols=['Pclass', 'SexVec', 'Age', 'SibSp', 'Parch', \n",
    " 'Fare', 'EmbarkedVec'], outputCol='features')"
   ]
  },
  {
   "cell_type": "code",
   "execution_count": 63,
   "id": "098d45b6",
   "metadata": {},
   "outputs": [],
   "source": [
    "from pyspark.ml.classification import LogisticRegression\n",
    "from pyspark.ml import Pipeline"
   ]
  },
  {
   "cell_type": "code",
   "execution_count": 64,
   "id": "1ce99524",
   "metadata": {},
   "outputs": [],
   "source": [
    "log_reg = LogisticRegression(featuresCol='features',labelCol='Survived')"
   ]
  },
  {
   "cell_type": "code",
   "execution_count": 65,
   "id": "4d081f37",
   "metadata": {},
   "outputs": [],
   "source": [
    "mlpipeline = Pipeline(stages=[gender_indexer,gender_encoder,Embarked_indexer,\n",
    "                             Embarked_encoder,assembler, log_reg])"
   ]
  },
  {
   "cell_type": "code",
   "execution_count": 66,
   "id": "662b0edb",
   "metadata": {},
   "outputs": [],
   "source": [
    "##split data into train and test\n",
    "train_data, test_data = myfinaldf.randomSplit([0.7,0.3])"
   ]
  },
  {
   "cell_type": "code",
   "execution_count": 67,
   "id": "209ef6c4",
   "metadata": {},
   "outputs": [],
   "source": [
    "mymodel = mlpipeline.fit(train_data)"
   ]
  },
  {
   "cell_type": "code",
   "execution_count": 72,
   "id": "70e6a9ed",
   "metadata": {},
   "outputs": [],
   "source": [
    "results = mymodel.transform(test_data)"
   ]
  },
  {
   "cell_type": "code",
   "execution_count": 76,
   "id": "781c4ad9",
   "metadata": {},
   "outputs": [],
   "source": [
    "from pyspark.ml.evaluation import BinaryClassificationEvaluator\n"
   ]
  },
  {
   "cell_type": "code",
   "execution_count": 77,
   "id": "d7a2c32a",
   "metadata": {},
   "outputs": [],
   "source": [
    "myeval = BinaryClassificationEvaluator(rawPredictionCol=\"rawPrediction\",\n",
    "                                      labelCol='Survived')"
   ]
  },
  {
   "cell_type": "code",
   "execution_count": 78,
   "id": "2e4f4cf0",
   "metadata": {},
   "outputs": [
    {
     "data": {
      "text/plain": [
       "0.8505549682875256"
      ]
     },
     "execution_count": 78,
     "metadata": {},
     "output_type": "execute_result"
    }
   ],
   "source": [
    "myeval.evaluate(results)"
   ]
  },
  {
   "cell_type": "code",
   "execution_count": 28,
   "id": "e04b0b6e",
   "metadata": {},
   "outputs": [],
   "source": [
    "## evaluationg the model"
   ]
  },
  {
   "cell_type": "code",
   "execution_count": 38,
   "id": "1ca12b19",
   "metadata": {},
   "outputs": [],
   "source": [
    "from pyspark.ml.evaluation import (BinaryClassificationEvaluator, MulticlassClassificationEvaluator)"
   ]
  },
  {
   "cell_type": "code",
   "execution_count": 42,
   "id": "e4359365",
   "metadata": {},
   "outputs": [],
   "source": [
    "my_evaluator = BinaryClassificationEvaluator(rawPredictionCol='rawPrediction', labelCol='label')"
   ]
  },
  {
   "cell_type": "code",
   "execution_count": 44,
   "id": "a01d3099",
   "metadata": {},
   "outputs": [],
   "source": [
    "my_final_roc = my_evaluator.evaluate(test_results.predictions)"
   ]
  },
  {
   "cell_type": "code",
   "execution_count": 45,
   "id": "b4e75b84",
   "metadata": {},
   "outputs": [
    {
     "data": {
      "text/plain": [
       "1.0"
      ]
     },
     "execution_count": 45,
     "metadata": {},
     "output_type": "execute_result"
    }
   ],
   "source": [
    "my_final_roc"
   ]
  },
  {
   "cell_type": "code",
   "execution_count": null,
   "id": "cb5c65c2",
   "metadata": {},
   "outputs": [],
   "source": []
  }
 ],
 "metadata": {
  "kernelspec": {
   "display_name": "Python 3",
   "language": "python3.8",
   "name": "python3"
  },
  "language_info": {
   "codemirror_mode": {
    "name": "ipython",
    "version": 3
   },
   "file_extension": ".py",
   "mimetype": "text/x-python",
   "name": "python",
   "nbconvert_exporter": "python",
   "pygments_lexer": "ipython3",
   "version": "3.8.0"
  }
 },
 "nbformat": 4,
 "nbformat_minor": 5
}
