{
 "cells": [
  {
   "cell_type": "code",
   "execution_count": 1,
   "id": "c1a2b04c",
   "metadata": {},
   "outputs": [],
   "source": [
    "import findspark\n",
    "findspark.init('/home/aditya/spark-3.1.1-bin-hadoop2.7')\n",
    "from pyspark.sql import SparkSession"
   ]
  },
  {
   "cell_type": "code",
   "execution_count": 2,
   "id": "1c7459bf",
   "metadata": {},
   "outputs": [],
   "source": [
    "spark = SparkSession.builder.appName(\"Treg\").getOrCreate()"
   ]
  },
  {
   "cell_type": "code",
   "execution_count": 3,
   "id": "b1b7febe",
   "metadata": {},
   "outputs": [],
   "source": [
    "from pyspark.ml.classification import (DecisionTreeClassifier, \n",
    "                                       RandomForestClassifier,GBTClassifier)"
   ]
  },
  {
   "cell_type": "code",
   "execution_count": 7,
   "id": "15d39423",
   "metadata": {},
   "outputs": [],
   "source": [
    "df = spark.read.csv(\"College.csv\", inferSchema=True, header=True)"
   ]
  },
  {
   "cell_type": "code",
   "execution_count": 10,
   "id": "a6422e2b",
   "metadata": {},
   "outputs": [
    {
     "name": "stdout",
     "output_type": "stream",
     "text": [
      "root\n",
      " |-- _c0: string (nullable = true)\n",
      " |-- Private: string (nullable = true)\n",
      " |-- Apps: integer (nullable = true)\n",
      " |-- Accept: integer (nullable = true)\n",
      " |-- Enroll: integer (nullable = true)\n",
      " |-- Top10perc: integer (nullable = true)\n",
      " |-- Top25perc: integer (nullable = true)\n",
      " |-- F.Undergrad: integer (nullable = true)\n",
      " |-- P.Undergrad: integer (nullable = true)\n",
      " |-- Outstate: integer (nullable = true)\n",
      " |-- Room.Board: integer (nullable = true)\n",
      " |-- Books: integer (nullable = true)\n",
      " |-- Personal: integer (nullable = true)\n",
      " |-- PhD: integer (nullable = true)\n",
      " |-- Terminal: integer (nullable = true)\n",
      " |-- S.F.Ratio: double (nullable = true)\n",
      " |-- perc.alumni: integer (nullable = true)\n",
      " |-- Expend: integer (nullable = true)\n",
      " |-- Grad.Rate: integer (nullable = true)\n",
      "\n"
     ]
    }
   ],
   "source": [
    "df.printSchema()"
   ]
  },
  {
   "cell_type": "code",
   "execution_count": 20,
   "id": "b37302eb",
   "metadata": {},
   "outputs": [
    {
     "name": "stdout",
     "output_type": "stream",
     "text": [
      "+-----------------------+\n",
      "|count(DISTINCT Private)|\n",
      "+-----------------------+\n",
      "|                      2|\n",
      "+-----------------------+\n",
      "\n",
      "+--------------+\n",
      "|count(Private)|\n",
      "+--------------+\n",
      "|           777|\n",
      "+--------------+\n",
      "\n"
     ]
    }
   ],
   "source": [
    "from pyspark.sql.functions import countDistinct, count\n",
    "df.select(countDistinct('Private')).show()\n",
    "df.select(count('Private')).show()"
   ]
  },
  {
   "cell_type": "code",
   "execution_count": 21,
   "id": "feecf057",
   "metadata": {},
   "outputs": [],
   "source": [
    "from pyspark.ml.feature import StringIndexer, VectorAssembler"
   ]
  },
  {
   "cell_type": "code",
   "execution_count": 25,
   "id": "cbf469dd",
   "metadata": {},
   "outputs": [],
   "source": [
    "indr = StringIndexer(inputCol='Private',outputCol='PrivateIndex')\n",
    "dfnew = indr.fit(df).transform(df)"
   ]
  },
  {
   "cell_type": "code",
   "execution_count": 46,
   "id": "214c87e0",
   "metadata": {},
   "outputs": [
    {
     "data": {
      "text/plain": [
       "['_c0',\n",
       " 'Private',\n",
       " 'Apps',\n",
       " 'Accept',\n",
       " 'Enroll',\n",
       " 'Top10perc',\n",
       " 'Top25perc',\n",
       " 'F_Undergrad',\n",
       " 'P_Undergrad',\n",
       " 'Outstate',\n",
       " 'Room_Board',\n",
       " 'Books',\n",
       " 'Personal',\n",
       " 'PhD',\n",
       " 'Terminal',\n",
       " 'S_F_Ratio',\n",
       " 'perc_alumni',\n",
       " 'Expend',\n",
       " 'Grad_Rate',\n",
       " 'PrivateIndex']"
      ]
     },
     "execution_count": 46,
     "metadata": {},
     "output_type": "execute_result"
    }
   ],
   "source": [
    "\n",
    "dfnew = dfnew.withColumnRenamed('F.Undergrad','F_Undergrad')\n",
    "dfnew = dfnew.withColumnRenamed('P.Undergrad','P_Undergrad')\n",
    "dfnew = dfnew.withColumnRenamed('Room.Board','Room_Board')\n",
    "dfnew = dfnew.withColumnRenamed('S.F.Ratio','S_F_Ratio')\n",
    "dfnew = dfnew.withColumnRenamed('perc.alumni','perc_alumni')\n",
    "dfnew = dfnew.withColumnRenamed('Grad.Rate','Grad_Rate')\n",
    "\n",
    "dfnew.columns"
   ]
  },
  {
   "cell_type": "code",
   "execution_count": 49,
   "id": "c480fa2c",
   "metadata": {},
   "outputs": [],
   "source": [
    "asbler = VectorAssembler(inputCols=['Apps',\n",
    " 'Accept',\n",
    " 'Enroll',\n",
    " 'Top10perc',\n",
    " 'Top25perc',\n",
    " \"F_Undergrad\",\n",
    " \"P_Undergrad\",\n",
    " 'Outstate',\n",
    " 'Room_Board',\n",
    " 'Books',\n",
    " 'Personal',\n",
    " 'PhD',\n",
    " 'Terminal',\n",
    " 'S_F_Ratio',\n",
    " 'perc_alumni',\n",
    " 'Expend',\n",
    " 'Grad_Rate',], outputCol='features')"
   ]
  },
  {
   "cell_type": "code",
   "execution_count": 50,
   "id": "00569b8c",
   "metadata": {},
   "outputs": [],
   "source": [
    "finaldata = asbler.transform(dfnew)"
   ]
  },
  {
   "cell_type": "code",
   "execution_count": 52,
   "id": "662b0edb",
   "metadata": {},
   "outputs": [],
   "source": [
    "##split data into train and test\n",
    "train_data, test_data = finaldata.select(['features','PrivateIndex']).randomSplit([0.7,0.3])"
   ]
  },
  {
   "cell_type": "code",
   "execution_count": 66,
   "id": "545f120d",
   "metadata": {},
   "outputs": [],
   "source": [
    "dt_classifier = DecisionTreeClassifier(labelCol='PrivateIndex')\n",
    "rdf_classifier = RandomForestClassifier(labelCol='PrivateIndex',numTrees=100)\n",
    "gbt_classifier = GBTClassifier(labelCol='PrivateIndex')"
   ]
  },
  {
   "cell_type": "code",
   "execution_count": 67,
   "id": "d2a38de9",
   "metadata": {},
   "outputs": [],
   "source": [
    "dt_model = dt_classifier.fit(train_data)\n",
    "rdf_model = rdf_classifier.fit(train_data)\n",
    "gbt_model = gbt_classifier.fit(train_data)"
   ]
  },
  {
   "cell_type": "code",
   "execution_count": 68,
   "id": "1ddb37f2",
   "metadata": {},
   "outputs": [],
   "source": [
    "dt_results = dt_model.transform(test_data)\n",
    "rdf_results = rdf_model.transform(test_data)\n",
    "gbt_results = gbt_model.transform(test_data)"
   ]
  },
  {
   "cell_type": "code",
   "execution_count": 69,
   "id": "781c4ad9",
   "metadata": {},
   "outputs": [],
   "source": [
    "from pyspark.ml.evaluation import (BinaryClassificationEvaluator, \n",
    "                                   MulticlassClassificationEvaluator)"
   ]
  },
  {
   "cell_type": "code",
   "execution_count": 70,
   "id": "d7a2c32a",
   "metadata": {},
   "outputs": [],
   "source": [
    "myeval = MulticlassClassificationEvaluator(predictionCol='prediction',\n",
    "                                      labelCol='PrivateIndex', metricName='accuracy')"
   ]
  },
  {
   "cell_type": "code",
   "execution_count": 71,
   "id": "2e4f4cf0",
   "metadata": {},
   "outputs": [
    {
     "data": {
      "text/plain": [
       "0.905829596412556"
      ]
     },
     "execution_count": 71,
     "metadata": {},
     "output_type": "execute_result"
    }
   ],
   "source": [
    "myeval.evaluate(dt_results)"
   ]
  },
  {
   "cell_type": "code",
   "execution_count": 72,
   "id": "ee33926c",
   "metadata": {},
   "outputs": [
    {
     "data": {
      "text/plain": [
       "0.9282511210762332"
      ]
     },
     "execution_count": 72,
     "metadata": {},
     "output_type": "execute_result"
    }
   ],
   "source": [
    "myeval.evaluate(rdf_results)"
   ]
  },
  {
   "cell_type": "code",
   "execution_count": 73,
   "id": "5eddf0d6",
   "metadata": {},
   "outputs": [
    {
     "data": {
      "text/plain": [
       "0.9237668161434978"
      ]
     },
     "execution_count": 73,
     "metadata": {},
     "output_type": "execute_result"
    }
   ],
   "source": [
    "myeval.evaluate(gbt_results)"
   ]
  },
  {
   "cell_type": "code",
   "execution_count": 65,
   "id": "997a7449",
   "metadata": {},
   "outputs": [
    {
     "data": {
      "text/plain": [
       "SparseVector(17, {0: 0.0244, 1: 0.0584, 2: 0.1439, 3: 0.013, 4: 0.0134, 5: 0.2482, 6: 0.0777, 7: 0.1693, 8: 0.037, 9: 0.0036, 10: 0.0058, 11: 0.0175, 12: 0.0095, 13: 0.0874, 14: 0.0258, 15: 0.0478, 16: 0.0173})"
      ]
     },
     "execution_count": 65,
     "metadata": {},
     "output_type": "execute_result"
    }
   ],
   "source": [
    "rdf_model.featureImportances"
   ]
  },
  {
   "cell_type": "code",
   "execution_count": null,
   "id": "194da278",
   "metadata": {},
   "outputs": [],
   "source": []
  }
 ],
 "metadata": {
  "kernelspec": {
   "display_name": "Python 3",
   "language": "python3.8",
   "name": "python3"
  },
  "language_info": {
   "codemirror_mode": {
    "name": "ipython",
    "version": 3
   },
   "file_extension": ".py",
   "mimetype": "text/x-python",
   "name": "python",
   "nbconvert_exporter": "python",
   "pygments_lexer": "ipython3",
   "version": "3.8.0"
  }
 },
 "nbformat": 4,
 "nbformat_minor": 5
}
