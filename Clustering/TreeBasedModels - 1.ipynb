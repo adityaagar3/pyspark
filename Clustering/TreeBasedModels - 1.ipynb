{
 "cells": [
  {
   "cell_type": "code",
   "execution_count": 1,
   "id": "c1a2b04c",
   "metadata": {},
   "outputs": [],
   "source": [
    "import findspark\n",
    "findspark.init('/home/aditya/spark-3.1.1-bin-hadoop2.7')\n",
    "from pyspark.sql import SparkSession"
   ]
  },
  {
   "cell_type": "code",
   "execution_count": 2,
   "id": "1c7459bf",
   "metadata": {},
   "outputs": [],
   "source": [
    "spark = SparkSession.builder.appName(\"Treg\").getOrCreate()"
   ]
  },
  {
   "cell_type": "code",
   "execution_count": 3,
   "id": "b1b7febe",
   "metadata": {},
   "outputs": [],
   "source": [
    "from pyspark.ml.classification import (DecisionTreeClassifier, \n",
    "                                       RandomForestClassifier,GBTClassifier)"
   ]
  },
  {
   "cell_type": "code",
   "execution_count": 4,
   "id": "15d39423",
   "metadata": {},
   "outputs": [],
   "source": [
    "df = spark.read.format('libsvm').load(\"sample_libsvm_data.txt\")"
   ]
  },
  {
   "cell_type": "code",
   "execution_count": 5,
   "id": "a6422e2b",
   "metadata": {},
   "outputs": [
    {
     "name": "stdout",
     "output_type": "stream",
     "text": [
      "+-----+--------------------+\n",
      "|label|            features|\n",
      "+-----+--------------------+\n",
      "|  0.0|(692,[127,128,129...|\n",
      "|  1.0|(692,[158,159,160...|\n",
      "|  1.0|(692,[124,125,126...|\n",
      "|  1.0|(692,[152,153,154...|\n",
      "|  1.0|(692,[151,152,153...|\n",
      "|  0.0|(692,[129,130,131...|\n",
      "|  1.0|(692,[158,159,160...|\n",
      "|  1.0|(692,[99,100,101,...|\n",
      "|  0.0|(692,[154,155,156...|\n",
      "|  0.0|(692,[127,128,129...|\n",
      "|  1.0|(692,[154,155,156...|\n",
      "|  0.0|(692,[153,154,155...|\n",
      "|  0.0|(692,[151,152,153...|\n",
      "|  1.0|(692,[129,130,131...|\n",
      "|  0.0|(692,[154,155,156...|\n",
      "|  1.0|(692,[150,151,152...|\n",
      "|  0.0|(692,[124,125,126...|\n",
      "|  0.0|(692,[152,153,154...|\n",
      "|  1.0|(692,[97,98,99,12...|\n",
      "|  1.0|(692,[124,125,126...|\n",
      "+-----+--------------------+\n",
      "only showing top 20 rows\n",
      "\n"
     ]
    }
   ],
   "source": [
    "df.show()"
   ]
  },
  {
   "cell_type": "code",
   "execution_count": 6,
   "id": "662b0edb",
   "metadata": {},
   "outputs": [],
   "source": [
    "##split data into train and test\n",
    "train_data, test_data = df.randomSplit([0.7,0.3])"
   ]
  },
  {
   "cell_type": "code",
   "execution_count": 7,
   "id": "545f120d",
   "metadata": {},
   "outputs": [],
   "source": [
    "dt_classifier = DecisionTreeClassifier()\n",
    "rdf_classifier = RandomForestClassifier()\n",
    "gbt_classifier = GBTClassifier()"
   ]
  },
  {
   "cell_type": "code",
   "execution_count": 8,
   "id": "d2a38de9",
   "metadata": {},
   "outputs": [],
   "source": [
    "dt_model = dt_classifier.fit(train_data)\n",
    "rdf_model = rdf_classifier.fit(train_data)\n",
    "gbt_model = gbt_classifier.fit(train_data)"
   ]
  },
  {
   "cell_type": "code",
   "execution_count": 10,
   "id": "1ddb37f2",
   "metadata": {},
   "outputs": [],
   "source": [
    "dt_results = dt_model.transform(test_data)\n",
    "rdf_results = rdf_model.transform(test_data)\n",
    "gbt_results = gbt_model.transform(test_data)"
   ]
  },
  {
   "cell_type": "code",
   "execution_count": 15,
   "id": "781c4ad9",
   "metadata": {},
   "outputs": [],
   "source": [
    "from pyspark.ml.evaluation import (BinaryClassificationEvaluator, \n",
    "                                   MulticlassClassificationEvaluator)"
   ]
  },
  {
   "cell_type": "code",
   "execution_count": 25,
   "id": "d7a2c32a",
   "metadata": {},
   "outputs": [],
   "source": [
    "myeval = MulticlassClassificationEvaluator(predictionCol='prediction',\n",
    "                                      labelCol='label', metricName='accuracy')"
   ]
  },
  {
   "cell_type": "code",
   "execution_count": 26,
   "id": "2e4f4cf0",
   "metadata": {},
   "outputs": [
    {
     "data": {
      "text/plain": [
       "1.0"
      ]
     },
     "execution_count": 26,
     "metadata": {},
     "output_type": "execute_result"
    }
   ],
   "source": [
    "myeval.evaluate(dt_results)"
   ]
  },
  {
   "cell_type": "code",
   "execution_count": 27,
   "id": "ee33926c",
   "metadata": {},
   "outputs": [
    {
     "data": {
      "text/plain": [
       "1.0"
      ]
     },
     "execution_count": 27,
     "metadata": {},
     "output_type": "execute_result"
    }
   ],
   "source": [
    "myeval.evaluate(rdf_results)"
   ]
  },
  {
   "cell_type": "code",
   "execution_count": 28,
   "id": "5eddf0d6",
   "metadata": {},
   "outputs": [
    {
     "data": {
      "text/plain": [
       "1.0"
      ]
     },
     "execution_count": 28,
     "metadata": {},
     "output_type": "execute_result"
    }
   ],
   "source": [
    "myeval.evaluate(gbt_results)"
   ]
  },
  {
   "cell_type": "code",
   "execution_count": 29,
   "id": "997a7449",
   "metadata": {},
   "outputs": [
    {
     "data": {
      "text/plain": [
       "SparseVector(692, {239: 0.0006, 244: 0.0235, 245: 0.0036, 262: 0.034, 286: 0.0024, 295: 0.0418, 299: 0.0273, 300: 0.0335, 302: 0.0205, 317: 0.0362, 319: 0.0163, 322: 0.0034, 329: 0.0299, 351: 0.0142, 355: 0.0328, 372: 0.0067, 376: 0.0077, 378: 0.0408, 379: 0.0421, 405: 0.0025, 406: 0.0028, 407: 0.0802, 428: 0.0027, 433: 0.0213, 434: 0.0701, 440: 0.0362, 441: 0.0026, 456: 0.011, 461: 0.0082, 462: 0.05, 464: 0.0056, 468: 0.0442, 484: 0.0464, 488: 0.0076, 489: 0.0167, 494: 0.0216, 511: 0.0437, 517: 0.0031, 520: 0.0071, 525: 0.0058, 540: 0.054, 574: 0.0052, 577: 0.0021, 606: 0.0298, 631: 0.0025})"
      ]
     },
     "execution_count": 29,
     "metadata": {},
     "output_type": "execute_result"
    }
   ],
   "source": [
    "rdf_model.featureImportances"
   ]
  },
  {
   "cell_type": "code",
   "execution_count": null,
   "id": "194da278",
   "metadata": {},
   "outputs": [],
   "source": []
  }
 ],
 "metadata": {
  "kernelspec": {
   "display_name": "Python 3",
   "language": "python3.8",
   "name": "python3"
  },
  "language_info": {
   "codemirror_mode": {
    "name": "ipython",
    "version": 3
   },
   "file_extension": ".py",
   "mimetype": "text/x-python",
   "name": "python",
   "nbconvert_exporter": "python",
   "pygments_lexer": "ipython3",
   "version": "3.8.0"
  }
 },
 "nbformat": 4,
 "nbformat_minor": 5
}
