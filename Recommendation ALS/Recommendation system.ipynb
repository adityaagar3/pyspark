{
 "cells": [
  {
   "cell_type": "code",
   "execution_count": 2,
   "id": "b51471d4",
   "metadata": {},
   "outputs": [],
   "source": [
    "import findspark\n",
    "findspark.init('/home/aditya/spark-3.1.1-bin-hadoop2.7/')"
   ]
  },
  {
   "cell_type": "code",
   "execution_count": 3,
   "id": "8da5f12f",
   "metadata": {},
   "outputs": [],
   "source": [
    "from pyspark.sql import SparkSession"
   ]
  },
  {
   "cell_type": "code",
   "execution_count": 4,
   "id": "cd4b1d19",
   "metadata": {},
   "outputs": [],
   "source": [
    "spark = SparkSession.builder.appName('Rec').getOrCreate()"
   ]
  },
  {
   "cell_type": "code",
   "execution_count": 5,
   "id": "6e269951",
   "metadata": {},
   "outputs": [],
   "source": [
    "from pyspark.ml.recommendation import ALS"
   ]
  },
  {
   "cell_type": "code",
   "execution_count": 6,
   "id": "45e8f533",
   "metadata": {},
   "outputs": [],
   "source": [
    "from pyspark.ml.evaluation import RegressionEvaluator"
   ]
  },
  {
   "cell_type": "code",
   "execution_count": 13,
   "id": "5fe052ad",
   "metadata": {},
   "outputs": [],
   "source": [
    "data = spark.read.csv('ratings.csv',sep='\\t', inferSchema=True, header=True)"
   ]
  },
  {
   "cell_type": "code",
   "execution_count": 17,
   "id": "48d86422",
   "metadata": {},
   "outputs": [],
   "source": [
    "traindata, testdata = data.randomSplit([0.8,0.2])"
   ]
  },
  {
   "cell_type": "code",
   "execution_count": 15,
   "id": "5b04e62d",
   "metadata": {},
   "outputs": [],
   "source": [
    "alsmdl = ALS(userCol='user_id',itemCol='movie_id', ratingCol='rating')"
   ]
  },
  {
   "cell_type": "code",
   "execution_count": 18,
   "id": "2e881e70",
   "metadata": {},
   "outputs": [],
   "source": [
    "model = alsmdl.fit(traindata)"
   ]
  },
  {
   "cell_type": "code",
   "execution_count": 19,
   "id": "735794d3",
   "metadata": {},
   "outputs": [],
   "source": [
    "predicteddata = model.transform(testdata)"
   ]
  },
  {
   "cell_type": "code",
   "execution_count": 32,
   "id": "9eca88e8",
   "metadata": {},
   "outputs": [
    {
     "name": "stdout",
     "output_type": "stream",
     "text": [
      "+------+-------+--------+------+----------+-----------+------------+----------+\n",
      "|   _c0|user_id|movie_id|rating| timestamp|user_emb_id|movie_emb_id|prediction|\n",
      "+------+-------+--------+------+----------+-----------+------------+----------+\n",
      "|734715|   4387|     148|     1| 977034181|       4386|         147| 2.8677113|\n",
      "|797832|   4784|     148|     3| 970000570|       4783|         147| 3.0768664|\n",
      "|579559|   3539|     148|     3| 966932408|       3538|         147| 3.1190836|\n",
      "| 72208|    482|     148|     2| 976219954|        481|         147| 2.7090368|\n",
      "|496919|   3053|     148|     3| 970170090|       3052|         147| 2.9675205|\n",
      "|672090|   4040|     463|     1| 965505136|       4039|         462| 1.9613107|\n",
      "|759117|   4510|     463|     2| 966800044|       4509|         462| 2.2196128|\n",
      "|583391|   3562|     463|     2| 966790403|       3561|         462| 2.9333193|\n",
      "|911280|   5511|     463|     2| 959715021|       5510|         462| 3.4169674|\n",
      "|332634|   1962|     463|     3| 975777932|       1961|         462| 2.0981405|\n",
      "|171583|   1088|     471|     4|1038181227|       1087|         470| 3.3965292|\n",
      "| 58237|    392|     471|     4| 976304518|        391|         470| 3.4968448|\n",
      "|929119|   5614|     471|     5| 959205286|       5613|         470| 3.8907857|\n",
      "|316781|   1884|     471|     2| 974700924|       1883|         470| 3.4361937|\n",
      "| 89242|    588|     471|     4| 975934884|        587|         470| 3.7962627|\n",
      "|889240|   5367|     471|     3| 960511063|       5366|         470| 3.2178411|\n",
      "|742978|   4443|     471|     2| 965096025|       4442|         470| 2.9276676|\n",
      "|343619|   2018|     471|     1| 974679943|       2017|         470| 3.5150487|\n",
      "|751919|   4482|     471|     4| 965018784|       4481|         470| 3.5618849|\n",
      "|883961|   5337|     471|     4| 960747681|       5336|         470| 3.8378518|\n",
      "+------+-------+--------+------+----------+-----------+------------+----------+\n",
      "only showing top 20 rows\n",
      "\n"
     ]
    }
   ],
   "source": [
    "predicteddata.show()"
   ]
  },
  {
   "cell_type": "code",
   "execution_count": 33,
   "id": "0a820481",
   "metadata": {},
   "outputs": [],
   "source": [
    "eval = RegressionEvaluator(predictionCol='prediction',\n",
    "    labelCol='rating',\n",
    "    metricName='rmse')"
   ]
  },
  {
   "cell_type": "code",
   "execution_count": 36,
   "id": "69c5ae8e",
   "metadata": {},
   "outputs": [],
   "source": [
    "predicteddata1 = predicteddata.na.drop()"
   ]
  },
  {
   "cell_type": "code",
   "execution_count": 38,
   "id": "df71a5eb",
   "metadata": {},
   "outputs": [],
   "source": [
    "rmse1 = eval.evaluate(predicteddata1)"
   ]
  },
  {
   "cell_type": "code",
   "execution_count": 39,
   "id": "eea478ac",
   "metadata": {},
   "outputs": [
    {
     "name": "stdout",
     "output_type": "stream",
     "text": [
      "0.8674359766097164\n"
     ]
    }
   ],
   "source": [
    "print(rmse1)"
   ]
  },
  {
   "cell_type": "code",
   "execution_count": null,
   "id": "c26abd73",
   "metadata": {},
   "outputs": [],
   "source": []
  }
 ],
 "metadata": {
  "kernelspec": {
   "display_name": "Python 3",
   "language": "python3.8",
   "name": "python3"
  },
  "language_info": {
   "codemirror_mode": {
    "name": "ipython",
    "version": 3
   },
   "file_extension": ".py",
   "mimetype": "text/x-python",
   "name": "python",
   "nbconvert_exporter": "python",
   "pygments_lexer": "ipython3",
   "version": "3.8.0"
  }
 },
 "nbformat": 4,
 "nbformat_minor": 5
}
