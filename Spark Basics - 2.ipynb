{
 "cells": [
  {
   "cell_type": "markdown",
   "id": "8876e554",
   "metadata": {},
   "source": [
    "# filter and collect"
   ]
  },
  {
   "cell_type": "code",
   "execution_count": 5,
   "id": "5b740aa6",
   "metadata": {},
   "outputs": [],
   "source": [
    "import findspark\n",
    "findspark.init('/home/aditya/spark-3.1.1-bin-hadoop2.7')\n",
    "from pyspark.sql import SparkSession"
   ]
  },
  {
   "cell_type": "code",
   "execution_count": 15,
   "id": "83f10839",
   "metadata": {},
   "outputs": [],
   "source": [
    "spark = SparkSession.builder.appName(\"market\").getOrCreate()"
   ]
  },
  {
   "cell_type": "code",
   "execution_count": 17,
   "id": "ccde3d8c",
   "metadata": {},
   "outputs": [],
   "source": [
    "df = spark.read.csv('app_stock.csv',inferSchema=True, header=True)\n"
   ]
  },
  {
   "cell_type": "code",
   "execution_count": 22,
   "id": "171c4cec",
   "metadata": {},
   "outputs": [
    {
     "name": "stdout",
     "output_type": "stream",
     "text": [
      "+----------+------+------+------+------+--------+---------+\n",
      "|      Date|  Open|  High|   Low| Close|  Volume|Adj Close|\n",
      "+----------+------+------+------+------+--------+---------+\n",
      "|2012-03-30|608.77|610.56|597.94|599.55|26050900|   599.55|\n",
      "|2012-03-29|612.78|616.56|607.23|609.86|21668300|   609.86|\n",
      "|2012-03-28|618.38|621.45|610.31|617.62|23385200|   617.62|\n",
      "|2012-03-27|606.18|616.28|606.06|614.48|21628200|   614.48|\n",
      "|2012-03-26|599.79|607.15|595.26|606.98|21259900|   606.98|\n",
      "|2012-03-23|600.49| 601.8| 594.4|596.05|15359900|   596.05|\n",
      "|2012-03-22|597.78| 604.5|595.53|599.34|22281100|   599.34|\n",
      "|2012-03-21|602.74|609.65|601.41| 602.5|22958200|    602.5|\n",
      "|2012-03-20|599.51| 606.9|591.48|605.96|29166500|   605.96|\n",
      "|2012-03-19|598.37|601.77|589.05| 601.1|32187000|    601.1|\n",
      "|2012-03-16|584.72| 589.2| 578.0|585.57|29481700|   585.57|\n",
      "|2012-03-15|599.61|600.01|578.55|585.56|41418500|   585.56|\n",
      "|2012-03-14|578.05|594.72| 575.4|589.58|50570100|   589.58|\n",
      "|2012-03-13|557.54|568.18|555.75| 568.1|24610500|    568.1|\n",
      "|2012-03-12|548.98| 552.0| 547.0| 552.0|14477800|    552.0|\n",
      "|2012-03-09|544.21|547.74|543.11|545.17|14943500|   545.17|\n",
      "|2012-03-08|534.69|542.99|532.12|541.99|18392600|   541.99|\n",
      "|2012-03-07| 536.8|537.78| 523.3|530.69|28490300|   530.69|\n",
      "|2012-03-06|523.66|533.69|516.22|530.26|28899400|   530.26|\n",
      "|2012-03-05|545.42|547.48| 526.0|533.16|28857200|   533.16|\n",
      "+----------+------+------+------+------+--------+---------+\n",
      "only showing top 20 rows\n",
      "\n"
     ]
    }
   ],
   "source": [
    "df.show()"
   ]
  },
  {
   "cell_type": "code",
   "execution_count": 20,
   "id": "a027a753",
   "metadata": {},
   "outputs": [
    {
     "name": "stdout",
     "output_type": "stream",
     "text": [
      "root\n",
      " |-- Date: string (nullable = true)\n",
      " |-- Open: double (nullable = true)\n",
      " |-- High: double (nullable = true)\n",
      " |-- Low: double (nullable = true)\n",
      " |-- Close: double (nullable = true)\n",
      " |-- Volume: integer (nullable = true)\n",
      " |-- Adj Close: double (nullable = true)\n",
      "\n"
     ]
    }
   ],
   "source": [
    "df.printSchema()"
   ]
  },
  {
   "cell_type": "code",
   "execution_count": 23,
   "id": "4e61cdd4",
   "metadata": {},
   "outputs": [],
   "source": [
    "## filter using SQL"
   ]
  },
  {
   "cell_type": "code",
   "execution_count": 24,
   "id": "b27bcfac",
   "metadata": {},
   "outputs": [
    {
     "name": "stdout",
     "output_type": "stream",
     "text": [
      "+----------+------+------+------+------+--------+---------+\n",
      "|      Date|  Open|  High|   Low| Close|  Volume|Adj Close|\n",
      "+----------+------+------+------+------+--------+---------+\n",
      "|2012-02-15|514.26|526.29|496.89|497.67|53706600|   497.67|\n",
      "|2012-02-10|490.96|497.62|488.55|493.42|22523900|   493.42|\n",
      "|2012-02-09|480.76|496.75|480.56|493.17|31527700|   493.17|\n",
      "|2012-02-08| 470.5|476.79| 469.7|476.68|14544700|   476.68|\n",
      "|2012-02-07|465.25|469.75|464.58|468.83|11280600|   468.83|\n",
      "|2012-02-06|458.38|464.98| 458.2|463.97| 8907600|   463.97|\n",
      "|2012-02-03| 457.3| 460.0|455.56|459.68|10235700|   459.68|\n",
      "|2012-02-02| 455.9|457.17|453.98|455.12| 6661100|   455.12|\n",
      "|2012-02-01|458.41|458.99|455.55|456.19| 9624500|   456.19|\n",
      "|2012-01-31|455.59|458.24|453.07|456.48|13988700|   456.48|\n",
      "|2012-01-30|445.71| 453.9|445.39|453.01|13531000|   453.01|\n",
      "|2012-01-27|444.34|448.48|443.77|447.28|10703900|   447.28|\n",
      "|2012-01-26|448.36|448.79|443.14|444.63|11570900|   444.63|\n",
      "|2012-01-25|454.44|454.45|443.73|446.66|34185200|   446.66|\n",
      "|2012-01-24| 425.1| 425.1|419.55|420.41|19226900|   420.41|\n",
      "|2012-01-23|422.67|428.45| 422.3|427.41|10915800|   427.41|\n",
      "|2012-01-20|427.49| 427.5|419.75| 420.3|14758300|    420.3|\n",
      "|2012-01-19|430.15|431.37|426.51|427.75| 9332700|   427.75|\n",
      "|2012-01-18|426.96|429.47| 426.3|429.11| 9872800|   429.11|\n",
      "|2012-01-17| 424.2|425.99|422.96| 424.7| 8658700|    424.7|\n",
      "+----------+------+------+------+------+--------+---------+\n",
      "only showing top 20 rows\n",
      "\n"
     ]
    }
   ],
   "source": [
    "df.filter(\"Close <500\").show()"
   ]
  },
  {
   "cell_type": "code",
   "execution_count": 25,
   "id": "a08778e1",
   "metadata": {},
   "outputs": [
    {
     "name": "stdout",
     "output_type": "stream",
     "text": [
      "+------+------+\n",
      "|  Open| Close|\n",
      "+------+------+\n",
      "|514.26|497.67|\n",
      "|490.96|493.42|\n",
      "|480.76|493.17|\n",
      "| 470.5|476.68|\n",
      "|465.25|468.83|\n",
      "|458.38|463.97|\n",
      "| 457.3|459.68|\n",
      "| 455.9|455.12|\n",
      "|458.41|456.19|\n",
      "|455.59|456.48|\n",
      "|445.71|453.01|\n",
      "|444.34|447.28|\n",
      "|448.36|444.63|\n",
      "|454.44|446.66|\n",
      "| 425.1|420.41|\n",
      "|422.67|427.41|\n",
      "|427.49| 420.3|\n",
      "|430.15|427.75|\n",
      "|426.96|429.11|\n",
      "| 424.2| 424.7|\n",
      "+------+------+\n",
      "only showing top 20 rows\n",
      "\n"
     ]
    }
   ],
   "source": [
    "df.filter(\"Close <500\").select(['Open', 'Close']).show()"
   ]
  },
  {
   "cell_type": "code",
   "execution_count": 26,
   "id": "1f1738db",
   "metadata": {},
   "outputs": [
    {
     "name": "stdout",
     "output_type": "stream",
     "text": [
      "+------+------+\n",
      "|  Open| Close|\n",
      "+------+------+\n",
      "|514.26|497.67|\n",
      "|490.96|493.42|\n",
      "|480.76|493.17|\n",
      "| 470.5|476.68|\n",
      "|465.25|468.83|\n",
      "|458.38|463.97|\n",
      "| 457.3|459.68|\n",
      "| 455.9|455.12|\n",
      "|458.41|456.19|\n",
      "|455.59|456.48|\n",
      "|445.71|453.01|\n",
      "|444.34|447.28|\n",
      "|448.36|444.63|\n",
      "|454.44|446.66|\n",
      "| 425.1|420.41|\n",
      "|422.67|427.41|\n",
      "|427.49| 420.3|\n",
      "|430.15|427.75|\n",
      "|426.96|429.11|\n",
      "| 424.2| 424.7|\n",
      "+------+------+\n",
      "only showing top 20 rows\n",
      "\n"
     ]
    }
   ],
   "source": [
    "df.filter(df['Close'] <500).select(['Open', 'Close']).show()"
   ]
  },
  {
   "cell_type": "code",
   "execution_count": 29,
   "id": "9502e376",
   "metadata": {},
   "outputs": [
    {
     "ename": "Py4JError",
     "evalue": "An error occurred while calling o103.and. Trace:\npy4j.Py4JException: Method and([class java.lang.Integer]) does not exist\n\tat py4j.reflection.ReflectionEngine.getMethod(ReflectionEngine.java:318)\n\tat py4j.reflection.ReflectionEngine.getMethod(ReflectionEngine.java:326)\n\tat py4j.Gateway.invoke(Gateway.java:274)\n\tat py4j.commands.AbstractCommand.invokeMethod(AbstractCommand.java:132)\n\tat py4j.commands.CallCommand.execute(CallCommand.java:79)\n\tat py4j.GatewayConnection.run(GatewayConnection.java:238)\n\tat java.base/java.lang.Thread.run(Thread.java:829)\n\n",
     "output_type": "error",
     "traceback": [
      "\u001b[0;31m---------------------------------------------------------------------------\u001b[0m",
      "\u001b[0;31mPy4JError\u001b[0m                                 Traceback (most recent call last)",
      "\u001b[0;32m<ipython-input-29-d410b53c82e5>\u001b[0m in \u001b[0;36m<module>\u001b[0;34m\u001b[0m\n\u001b[0;32m----> 1\u001b[0;31m \u001b[0mdf\u001b[0m\u001b[0;34m.\u001b[0m\u001b[0mfilter\u001b[0m\u001b[0;34m(\u001b[0m\u001b[0mdf\u001b[0m\u001b[0;34m[\u001b[0m\u001b[0;34m'Close'\u001b[0m\u001b[0;34m]\u001b[0m \u001b[0;34m<\u001b[0m\u001b[0;36m500\u001b[0m \u001b[0;34m&\u001b[0m \u001b[0mdf\u001b[0m\u001b[0;34m[\u001b[0m\u001b[0;34m'Open'\u001b[0m\u001b[0;34m]\u001b[0m \u001b[0;34m>\u001b[0m \u001b[0;36m500\u001b[0m\u001b[0;34m)\u001b[0m\u001b[0;34m.\u001b[0m\u001b[0mselect\u001b[0m\u001b[0;34m(\u001b[0m\u001b[0;34m[\u001b[0m\u001b[0;34m'Open'\u001b[0m\u001b[0;34m,\u001b[0m \u001b[0;34m'Close'\u001b[0m\u001b[0;34m]\u001b[0m\u001b[0;34m)\u001b[0m\u001b[0;34m.\u001b[0m\u001b[0mshow\u001b[0m\u001b[0;34m(\u001b[0m\u001b[0;34m)\u001b[0m\u001b[0;34m\u001b[0m\u001b[0;34m\u001b[0m\u001b[0m\n\u001b[0m",
      "\u001b[0;32m~/spark-3.1.1-bin-hadoop2.7/python/pyspark/sql/column.py\u001b[0m in \u001b[0;36m_\u001b[0;34m(self, other)\u001b[0m\n\u001b[1;32m    109\u001b[0m     \u001b[0;32mdef\u001b[0m \u001b[0m_\u001b[0m\u001b[0;34m(\u001b[0m\u001b[0mself\u001b[0m\u001b[0;34m,\u001b[0m \u001b[0mother\u001b[0m\u001b[0;34m)\u001b[0m\u001b[0;34m:\u001b[0m\u001b[0;34m\u001b[0m\u001b[0;34m\u001b[0m\u001b[0m\n\u001b[1;32m    110\u001b[0m         \u001b[0mjc\u001b[0m \u001b[0;34m=\u001b[0m \u001b[0mother\u001b[0m\u001b[0;34m.\u001b[0m\u001b[0m_jc\u001b[0m \u001b[0;32mif\u001b[0m \u001b[0misinstance\u001b[0m\u001b[0;34m(\u001b[0m\u001b[0mother\u001b[0m\u001b[0;34m,\u001b[0m \u001b[0mColumn\u001b[0m\u001b[0;34m)\u001b[0m \u001b[0;32melse\u001b[0m \u001b[0mother\u001b[0m\u001b[0;34m\u001b[0m\u001b[0;34m\u001b[0m\u001b[0m\n\u001b[0;32m--> 111\u001b[0;31m         \u001b[0mnjc\u001b[0m \u001b[0;34m=\u001b[0m \u001b[0mgetattr\u001b[0m\u001b[0;34m(\u001b[0m\u001b[0mself\u001b[0m\u001b[0;34m.\u001b[0m\u001b[0m_jc\u001b[0m\u001b[0;34m,\u001b[0m \u001b[0mname\u001b[0m\u001b[0;34m)\u001b[0m\u001b[0;34m(\u001b[0m\u001b[0mjc\u001b[0m\u001b[0;34m)\u001b[0m\u001b[0;34m\u001b[0m\u001b[0;34m\u001b[0m\u001b[0m\n\u001b[0m\u001b[1;32m    112\u001b[0m         \u001b[0;32mreturn\u001b[0m \u001b[0mColumn\u001b[0m\u001b[0;34m(\u001b[0m\u001b[0mnjc\u001b[0m\u001b[0;34m)\u001b[0m\u001b[0;34m\u001b[0m\u001b[0;34m\u001b[0m\u001b[0m\n\u001b[1;32m    113\u001b[0m     \u001b[0m_\u001b[0m\u001b[0;34m.\u001b[0m\u001b[0m__doc__\u001b[0m \u001b[0;34m=\u001b[0m \u001b[0mdoc\u001b[0m\u001b[0;34m\u001b[0m\u001b[0;34m\u001b[0m\u001b[0m\n",
      "\u001b[0;32m~/spark-3.1.1-bin-hadoop2.7/python/lib/py4j-0.10.9-src.zip/py4j/java_gateway.py\u001b[0m in \u001b[0;36m__call__\u001b[0;34m(self, *args)\u001b[0m\n\u001b[1;32m   1302\u001b[0m \u001b[0;34m\u001b[0m\u001b[0m\n\u001b[1;32m   1303\u001b[0m         \u001b[0manswer\u001b[0m \u001b[0;34m=\u001b[0m \u001b[0mself\u001b[0m\u001b[0;34m.\u001b[0m\u001b[0mgateway_client\u001b[0m\u001b[0;34m.\u001b[0m\u001b[0msend_command\u001b[0m\u001b[0;34m(\u001b[0m\u001b[0mcommand\u001b[0m\u001b[0;34m)\u001b[0m\u001b[0;34m\u001b[0m\u001b[0;34m\u001b[0m\u001b[0m\n\u001b[0;32m-> 1304\u001b[0;31m         return_value = get_return_value(\n\u001b[0m\u001b[1;32m   1305\u001b[0m             answer, self.gateway_client, self.target_id, self.name)\n\u001b[1;32m   1306\u001b[0m \u001b[0;34m\u001b[0m\u001b[0m\n",
      "\u001b[0;32m~/spark-3.1.1-bin-hadoop2.7/python/pyspark/sql/utils.py\u001b[0m in \u001b[0;36mdeco\u001b[0;34m(*a, **kw)\u001b[0m\n\u001b[1;32m    109\u001b[0m     \u001b[0;32mdef\u001b[0m \u001b[0mdeco\u001b[0m\u001b[0;34m(\u001b[0m\u001b[0;34m*\u001b[0m\u001b[0ma\u001b[0m\u001b[0;34m,\u001b[0m \u001b[0;34m**\u001b[0m\u001b[0mkw\u001b[0m\u001b[0;34m)\u001b[0m\u001b[0;34m:\u001b[0m\u001b[0;34m\u001b[0m\u001b[0;34m\u001b[0m\u001b[0m\n\u001b[1;32m    110\u001b[0m         \u001b[0;32mtry\u001b[0m\u001b[0;34m:\u001b[0m\u001b[0;34m\u001b[0m\u001b[0;34m\u001b[0m\u001b[0m\n\u001b[0;32m--> 111\u001b[0;31m             \u001b[0;32mreturn\u001b[0m \u001b[0mf\u001b[0m\u001b[0;34m(\u001b[0m\u001b[0;34m*\u001b[0m\u001b[0ma\u001b[0m\u001b[0;34m,\u001b[0m \u001b[0;34m**\u001b[0m\u001b[0mkw\u001b[0m\u001b[0;34m)\u001b[0m\u001b[0;34m\u001b[0m\u001b[0;34m\u001b[0m\u001b[0m\n\u001b[0m\u001b[1;32m    112\u001b[0m         \u001b[0;32mexcept\u001b[0m \u001b[0mpy4j\u001b[0m\u001b[0;34m.\u001b[0m\u001b[0mprotocol\u001b[0m\u001b[0;34m.\u001b[0m\u001b[0mPy4JJavaError\u001b[0m \u001b[0;32mas\u001b[0m \u001b[0me\u001b[0m\u001b[0;34m:\u001b[0m\u001b[0;34m\u001b[0m\u001b[0;34m\u001b[0m\u001b[0m\n\u001b[1;32m    113\u001b[0m             \u001b[0mconverted\u001b[0m \u001b[0;34m=\u001b[0m \u001b[0mconvert_exception\u001b[0m\u001b[0;34m(\u001b[0m\u001b[0me\u001b[0m\u001b[0;34m.\u001b[0m\u001b[0mjava_exception\u001b[0m\u001b[0;34m)\u001b[0m\u001b[0;34m\u001b[0m\u001b[0;34m\u001b[0m\u001b[0m\n",
      "\u001b[0;32m~/spark-3.1.1-bin-hadoop2.7/python/lib/py4j-0.10.9-src.zip/py4j/protocol.py\u001b[0m in \u001b[0;36mget_return_value\u001b[0;34m(answer, gateway_client, target_id, name)\u001b[0m\n\u001b[1;32m    328\u001b[0m                     format(target_id, \".\", name), value)\n\u001b[1;32m    329\u001b[0m             \u001b[0;32melse\u001b[0m\u001b[0;34m:\u001b[0m\u001b[0;34m\u001b[0m\u001b[0;34m\u001b[0m\u001b[0m\n\u001b[0;32m--> 330\u001b[0;31m                 raise Py4JError(\n\u001b[0m\u001b[1;32m    331\u001b[0m                     \u001b[0;34m\"An error occurred while calling {0}{1}{2}. Trace:\\n{3}\\n\"\u001b[0m\u001b[0;34m.\u001b[0m\u001b[0;34m\u001b[0m\u001b[0;34m\u001b[0m\u001b[0m\n\u001b[1;32m    332\u001b[0m                     format(target_id, \".\", name, value))\n",
      "\u001b[0;31mPy4JError\u001b[0m: An error occurred while calling o103.and. Trace:\npy4j.Py4JException: Method and([class java.lang.Integer]) does not exist\n\tat py4j.reflection.ReflectionEngine.getMethod(ReflectionEngine.java:318)\n\tat py4j.reflection.ReflectionEngine.getMethod(ReflectionEngine.java:326)\n\tat py4j.Gateway.invoke(Gateway.java:274)\n\tat py4j.commands.AbstractCommand.invokeMethod(AbstractCommand.java:132)\n\tat py4j.commands.CallCommand.execute(CallCommand.java:79)\n\tat py4j.GatewayConnection.run(GatewayConnection.java:238)\n\tat java.base/java.lang.Thread.run(Thread.java:829)\n\n"
     ]
    }
   ],
   "source": [
    "## If gives error when we have multiple conditions to filter. Each condition need to be closed in brackets \n",
    "df.filter(df['Close'] <500 & df['Open'] > 500).select(['Open', 'Close']).show()"
   ]
  },
  {
   "cell_type": "code",
   "execution_count": 31,
   "id": "ca080462",
   "metadata": {},
   "outputs": [
    {
     "name": "stdout",
     "output_type": "stream",
     "text": [
      "+------+------+\n",
      "|  Open| Close|\n",
      "+------+------+\n",
      "|514.26|497.67|\n",
      "+------+------+\n",
      "\n"
     ]
    }
   ],
   "source": [
    "df.filter((df['Close'] <500) & (df['Open'] > 500)).select(['Open', 'Close']).show()"
   ]
  },
  {
   "cell_type": "code",
   "execution_count": 37,
   "id": "2f367d87",
   "metadata": {},
   "outputs": [
    {
     "name": "stdout",
     "output_type": "stream",
     "text": [
      "+------+------+\n",
      "|  Open| Close|\n",
      "+------+------+\n",
      "|514.26|497.67|\n",
      "+------+------+\n",
      "\n"
     ]
    }
   ],
   "source": [
    "df.filter((df['Close'] <500) & ~(df['Open'] < 500)).select(['Open', 'Close']).show()"
   ]
  },
  {
   "cell_type": "code",
   "execution_count": 36,
   "id": "e4b7e318",
   "metadata": {},
   "outputs": [],
   "source": [
    "## collect\n",
    "## show will just print the results but if you want to save the data in a new df then you need to collect."
   ]
  },
  {
   "cell_type": "code",
   "execution_count": 38,
   "id": "1b47e20b",
   "metadata": {},
   "outputs": [],
   "source": [
    "results = df.filter((df['Close'] <500) & (df['Open'] > 500)).select(['Open', 'Close']).collect()"
   ]
  },
  {
   "cell_type": "code",
   "execution_count": 40,
   "id": "15c3d467",
   "metadata": {},
   "outputs": [
    {
     "data": {
      "text/plain": [
       "Row(Open=514.26, Close=497.67)"
      ]
     },
     "execution_count": 40,
     "metadata": {},
     "output_type": "execute_result"
    }
   ],
   "source": [
    "results[0]"
   ]
  },
  {
   "cell_type": "code",
   "execution_count": 43,
   "id": "f9204b41",
   "metadata": {},
   "outputs": [
    {
     "data": {
      "text/plain": [
       "{'Open': 514.26, 'Close': 497.67}"
      ]
     },
     "execution_count": 43,
     "metadata": {},
     "output_type": "execute_result"
    }
   ],
   "source": [
    "results[0].asDict()"
   ]
  },
  {
   "cell_type": "code",
   "execution_count": 44,
   "id": "e54b7bfe",
   "metadata": {},
   "outputs": [
    {
     "data": {
      "text/plain": [
       "514.26"
      ]
     },
     "execution_count": 44,
     "metadata": {},
     "output_type": "execute_result"
    }
   ],
   "source": [
    "results[0].asDict()['Open']"
   ]
  },
  {
   "cell_type": "code",
   "execution_count": 35,
   "id": "2983ca17",
   "metadata": {},
   "outputs": [
    {
     "data": {
      "text/plain": [
       "Row(Close=12.94)"
      ]
     },
     "execution_count": 35,
     "metadata": {},
     "output_type": "execute_result"
    }
   ],
   "source": [
    "min(df.select(['Close']).collect())"
   ]
  }
 ],
 "metadata": {
  "kernelspec": {
   "display_name": "Python 3",
   "language": "python3.8",
   "name": "python3"
  },
  "language_info": {
   "codemirror_mode": {
    "name": "ipython",
    "version": 3
   },
   "file_extension": ".py",
   "mimetype": "text/x-python",
   "name": "python",
   "nbconvert_exporter": "python",
   "pygments_lexer": "ipython3",
   "version": "3.8.0"
  }
 },
 "nbformat": 4,
 "nbformat_minor": 5
}
