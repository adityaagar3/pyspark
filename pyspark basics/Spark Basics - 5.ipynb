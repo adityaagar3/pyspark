{
 "cells": [
  {
   "cell_type": "markdown",
   "id": "8876e554",
   "metadata": {},
   "source": [
    "# handling dates and timestamp"
   ]
  },
  {
   "cell_type": "code",
   "execution_count": 1,
   "id": "5b740aa6",
   "metadata": {},
   "outputs": [],
   "source": [
    "import findspark\n",
    "findspark.init('/home/aditya/spark-3.1.1-bin-hadoop2.7')\n",
    "from pyspark.sql import SparkSession"
   ]
  },
  {
   "cell_type": "code",
   "execution_count": 2,
   "id": "83f10839",
   "metadata": {},
   "outputs": [],
   "source": [
    "spark = SparkSession.builder.appName(\"market\").getOrCreate()"
   ]
  },
  {
   "cell_type": "code",
   "execution_count": 3,
   "id": "ccde3d8c",
   "metadata": {},
   "outputs": [],
   "source": [
    "df = spark.read.csv('app_stock.csv',inferSchema=True, header=True)\n"
   ]
  },
  {
   "cell_type": "code",
   "execution_count": 4,
   "id": "171c4cec",
   "metadata": {},
   "outputs": [
    {
     "name": "stdout",
     "output_type": "stream",
     "text": [
      "+----------+------+------+------+------+--------+---------+\n",
      "|      Date|  Open|  High|   Low| Close|  Volume|Adj Close|\n",
      "+----------+------+------+------+------+--------+---------+\n",
      "|2012-03-30|608.77|610.56|597.94|599.55|26050900|   599.55|\n",
      "|2012-03-29|612.78|616.56|607.23|609.86|21668300|   609.86|\n",
      "|2012-03-28|618.38|621.45|610.31|617.62|23385200|   617.62|\n",
      "|2012-03-27|606.18|616.28|606.06|614.48|21628200|   614.48|\n",
      "|2012-03-26|599.79|607.15|595.26|606.98|21259900|   606.98|\n",
      "|2012-03-23|600.49| 601.8| 594.4|596.05|15359900|   596.05|\n",
      "|2012-03-22|597.78| 604.5|595.53|599.34|22281100|   599.34|\n",
      "|2012-03-21|602.74|609.65|601.41| 602.5|22958200|    602.5|\n",
      "|2012-03-20|599.51| 606.9|591.48|605.96|29166500|   605.96|\n",
      "|2012-03-19|598.37|601.77|589.05| 601.1|32187000|    601.1|\n",
      "|2012-03-16|584.72| 589.2| 578.0|585.57|29481700|   585.57|\n",
      "|2012-03-15|599.61|600.01|578.55|585.56|41418500|   585.56|\n",
      "|2012-03-14|578.05|594.72| 575.4|589.58|50570100|   589.58|\n",
      "|2012-03-13|557.54|568.18|555.75| 568.1|24610500|    568.1|\n",
      "|2012-03-12|548.98| 552.0| 547.0| 552.0|14477800|    552.0|\n",
      "|2012-03-09|544.21|547.74|543.11|545.17|14943500|   545.17|\n",
      "|2012-03-08|534.69|542.99|532.12|541.99|18392600|   541.99|\n",
      "|2012-03-07| 536.8|537.78| 523.3|530.69|28490300|   530.69|\n",
      "|2012-03-06|523.66|533.69|516.22|530.26|28899400|   530.26|\n",
      "|2012-03-05|545.42|547.48| 526.0|533.16|28857200|   533.16|\n",
      "+----------+------+------+------+------+--------+---------+\n",
      "only showing top 20 rows\n",
      "\n"
     ]
    }
   ],
   "source": [
    "df.show()"
   ]
  },
  {
   "cell_type": "code",
   "execution_count": 5,
   "id": "a027a753",
   "metadata": {},
   "outputs": [
    {
     "name": "stdout",
     "output_type": "stream",
     "text": [
      "root\n",
      " |-- Date: string (nullable = true)\n",
      " |-- Open: double (nullable = true)\n",
      " |-- High: double (nullable = true)\n",
      " |-- Low: double (nullable = true)\n",
      " |-- Close: double (nullable = true)\n",
      " |-- Volume: integer (nullable = true)\n",
      " |-- Adj Close: double (nullable = true)\n",
      "\n"
     ]
    }
   ],
   "source": [
    "df.printSchema()"
   ]
  },
  {
   "cell_type": "code",
   "execution_count": 6,
   "id": "bae7d632",
   "metadata": {},
   "outputs": [
    {
     "name": "stdout",
     "output_type": "stream",
     "text": [
      "+----------+------+\n",
      "|      Date|  Open|\n",
      "+----------+------+\n",
      "|2012-03-30|608.77|\n",
      "|2012-03-29|612.78|\n",
      "|2012-03-28|618.38|\n",
      "|2012-03-27|606.18|\n",
      "|2012-03-26|599.79|\n",
      "|2012-03-23|600.49|\n",
      "|2012-03-22|597.78|\n",
      "|2012-03-21|602.74|\n",
      "|2012-03-20|599.51|\n",
      "|2012-03-19|598.37|\n",
      "|2012-03-16|584.72|\n",
      "|2012-03-15|599.61|\n",
      "|2012-03-14|578.05|\n",
      "|2012-03-13|557.54|\n",
      "|2012-03-12|548.98|\n",
      "|2012-03-09|544.21|\n",
      "|2012-03-08|534.69|\n",
      "|2012-03-07| 536.8|\n",
      "|2012-03-06|523.66|\n",
      "|2012-03-05|545.42|\n",
      "+----------+------+\n",
      "only showing top 20 rows\n",
      "\n"
     ]
    }
   ],
   "source": [
    "df.select(['Date','Open']).show()"
   ]
  },
  {
   "cell_type": "code",
   "execution_count": 7,
   "id": "191fc2fd",
   "metadata": {},
   "outputs": [],
   "source": [
    "from pyspark.sql.functions import (dayofmonth, dayofyear, hour, month,\n",
    "                                   year, weekofyear, format_number,date_format)"
   ]
  },
  {
   "cell_type": "code",
   "execution_count": 12,
   "id": "57ee1a17",
   "metadata": {},
   "outputs": [
    {
     "name": "stdout",
     "output_type": "stream",
     "text": [
      "+---------+\n",
      "|day_month|\n",
      "+---------+\n",
      "|       30|\n",
      "|       29|\n",
      "|       28|\n",
      "|       27|\n",
      "|       26|\n",
      "|       23|\n",
      "|       22|\n",
      "|       21|\n",
      "|       20|\n",
      "|       19|\n",
      "|       16|\n",
      "|       15|\n",
      "|       14|\n",
      "|       13|\n",
      "|       12|\n",
      "|        9|\n",
      "|        8|\n",
      "|        7|\n",
      "|        6|\n",
      "|        5|\n",
      "+---------+\n",
      "only showing top 20 rows\n",
      "\n"
     ]
    }
   ],
   "source": [
    "df.select(dayofmonth(df['Date']).alias('day_month')).show()"
   ]
  },
  {
   "cell_type": "code",
   "execution_count": 14,
   "id": "096c9f0d",
   "metadata": {},
   "outputs": [
    {
     "name": "stdout",
     "output_type": "stream",
     "text": [
      "+----+\n",
      "|hour|\n",
      "+----+\n",
      "|   0|\n",
      "|   0|\n",
      "|   0|\n",
      "|   0|\n",
      "|   0|\n",
      "|   0|\n",
      "|   0|\n",
      "|   0|\n",
      "|   0|\n",
      "|   0|\n",
      "|   0|\n",
      "|   0|\n",
      "|   0|\n",
      "|   0|\n",
      "|   0|\n",
      "|   0|\n",
      "|   0|\n",
      "|   0|\n",
      "|   0|\n",
      "|   0|\n",
      "+----+\n",
      "only showing top 20 rows\n",
      "\n"
     ]
    }
   ],
   "source": [
    "df.select(hour(df['Date']).alias('hour')).show()"
   ]
  },
  {
   "cell_type": "code",
   "execution_count": 38,
   "id": "e8264592",
   "metadata": {},
   "outputs": [
    {
     "name": "stdout",
     "output_type": "stream",
     "text": [
      "+----+------------------+\n",
      "|year|         avg_close|\n",
      "+----+------------------+\n",
      "|1990| 37.56268774703557|\n",
      "|2003|18.544761904761902|\n",
      "|2007| 128.2739043824701|\n",
      "|2006| 70.81063745019918|\n",
      "|1997|17.965849802371523|\n",
      "|1988| 41.54007905138338|\n",
      "|1994| 34.08134920634923|\n",
      "|2004|35.526944444444446|\n",
      "|1991| 52.49553359683792|\n",
      "|1996|24.917559055118087|\n",
      "|1989| 41.65976190476188|\n",
      "|1998| 30.56511904761903|\n",
      "|1985| 20.19367588932804|\n",
      "|2012|503.67983870967726|\n",
      "|1987| 53.88968379446637|\n",
      "|2009|146.81412698412706|\n",
      "|1995| 40.54210317460315|\n",
      "|2001|20.219112903225806|\n",
      "|1992| 54.80338582677165|\n",
      "|2005|   52.401746031746|\n",
      "+----+------------------+\n",
      "only showing top 20 rows\n",
      "\n"
     ]
    }
   ],
   "source": [
    "### getting average closing price by year\n",
    "newdf = df.withColumn('year',year(df['Date']))\n",
    "newdf = newdf.groupBy('year').agg({'Close':'mean'}).select(['year','avg(Close)'])\n",
    "# newdf = df.withColumnRenamed('avg_close','avg(Close)')\n",
    "newdf = newdf.withColumnRenamed('avg(Close)', 'avg_close')\n",
    "newdf.show()"
   ]
  },
  {
   "cell_type": "code",
   "execution_count": 42,
   "id": "ae71a1a8",
   "metadata": {},
   "outputs": [
    {
     "name": "stdout",
     "output_type": "stream",
     "text": [
      "+----+---------+\n",
      "|year|avg_close|\n",
      "+----+---------+\n",
      "|1990|    37.56|\n",
      "|2003|    18.54|\n",
      "|2007|   128.27|\n",
      "|2006|    70.81|\n",
      "|1997|    17.97|\n",
      "|1988|    41.54|\n",
      "|1994|    34.08|\n",
      "|2004|    35.53|\n",
      "|1991|    52.50|\n",
      "|1996|    24.92|\n",
      "|1989|    41.66|\n",
      "|1998|    30.57|\n",
      "|1985|    20.19|\n",
      "|2012|   503.68|\n",
      "|1987|    53.89|\n",
      "|2009|   146.81|\n",
      "|1995|    40.54|\n",
      "|2001|    20.22|\n",
      "|1992|    54.80|\n",
      "|2005|    52.40|\n",
      "+----+---------+\n",
      "only showing top 20 rows\n",
      "\n"
     ]
    }
   ],
   "source": [
    "newdf.select(['year', format_number('avg_close',2).alias('avg_close')]).show()"
   ]
  },
  {
   "cell_type": "code",
   "execution_count": 43,
   "id": "52952432",
   "metadata": {},
   "outputs": [],
   "source": [
    "newdf1 = newdf.select(['year', format_number('avg_close',2).alias('avg_close')]).collect()"
   ]
  },
  {
   "cell_type": "code",
   "execution_count": null,
   "id": "19d10afc",
   "metadata": {},
   "outputs": [],
   "source": []
  }
 ],
 "metadata": {
  "kernelspec": {
   "display_name": "Python 3",
   "language": "python3.8",
   "name": "python3"
  },
  "language_info": {
   "codemirror_mode": {
    "name": "ipython",
    "version": 3
   },
   "file_extension": ".py",
   "mimetype": "text/x-python",
   "name": "python",
   "nbconvert_exporter": "python",
   "pygments_lexer": "ipython3",
   "version": "3.8.0"
  }
 },
 "nbformat": 4,
 "nbformat_minor": 5
}
